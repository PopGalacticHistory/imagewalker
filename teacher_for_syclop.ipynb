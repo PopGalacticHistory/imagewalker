{
 "cells": [
  {
   "cell_type": "code",
   "execution_count": 1,
   "metadata": {
    "scrolled": true
   },
   "outputs": [],
   "source": [
    "from __future__ import print_function\n",
    "from misc import *\n",
    "\n"
   ]
  },
  {
   "cell_type": "code",
   "execution_count": 2,
   "metadata": {},
   "outputs": [],
   "source": [
    "\"\"\"DVS128 closed loop oscillator routine by Alexander Rivkind, Eldad Assa, Michael Kreiserman and Ehud Ahissar\n",
    "based on: \n",
    "*DVS example by: Yuhuang Hu (duguyue100@gmail.com)\n",
    "*Syclop model: Ahissar and Assa 2017\n",
    "\"\"\"\n",
    "from reservoir import ESN\n",
    "import numpy as np\n",
    "import time\n",
    "import SYCLOP_env as syc\n",
    "import matplotlib.pyplot as plt\n",
    "\n",
    "\n",
    "import cv2\n",
    "\n",
    "import maestro\n",
    "\n",
    "from pyaer.dvs128 import DVS128\n",
    "%matplotlib notebook"
   ]
  },
  {
   "cell_type": "code",
   "execution_count": 3,
   "metadata": {},
   "outputs": [],
   "source": [
    "class  Syclop_Teacher:\n",
    "    def __init__(self):\n",
    "        self.hp = HP()\n",
    "        self.hp.dt = 0.1\n",
    "        self.hp.omega0 = 2*np.pi / 10.\n",
    "        self.hp.A = 5.0 #target amplitude of oscillations. Target max speed is hence omega*A\n",
    "        self.hp.noi = 0.01\n",
    "        self.speed_lim = self.hp.omega0 * self.hp.A\n",
    "        self.vel = 0\n",
    "    def step(self,dvs_strip):        \n",
    "        dvs_strip = dvs_strip + self.hp.noi*np.random.normal(size=np.shape(dvs_strip))\n",
    "        I = dvs_strip**2.0\n",
    "        I = I/(np.sum(I)+1e-10)\n",
    "        centre = np.sum(I*np.array(range(len(dvs_strip))))- len(dvs_strip)/2.0 \n",
    "#         print('centre:',centre)\n",
    "        self.vel += self.hp.dt*self.hp.omega0*centre \n",
    "        self.vel = self.vel if np.abs(self.vel)<self.speed_lim else self.speed_lim*np.sign(self.vel)"
   ]
  },
  {
   "cell_type": "code",
   "execution_count": 4,
   "metadata": {},
   "outputs": [],
   "source": [
    "servo = maestro.Controller()\n",
    "esn = ESN(n_inputs = 128)\n",
    "\n"
   ]
  },
  {
   "cell_type": "code",
   "execution_count": 5,
   "metadata": {},
   "outputs": [],
   "source": [
    "def gohome():    \n",
    "    servo.setSpeed(0,0)\n",
    "    servo.setSpeed(1,0)\n",
    "    servo.setTarget(1,7500)     #set speed of servo 1\n",
    "    servo.setTarget(0,5000)  #set servo to move to center position\n",
    "    servo.setSpeed(0,1)\n",
    "    servo.setSpeed(1,1)\n",
    "    time.sleep(1.0)"
   ]
  },
  {
   "cell_type": "code",
   "execution_count": 6,
   "metadata": {},
   "outputs": [],
   "source": [
    "gohome()"
   ]
  },
  {
   "cell_type": "code",
   "execution_count": 7,
   "metadata": {},
   "outputs": [],
   "source": [
    "servo.moveByVelocity(0,-1)\n"
   ]
  },
  {
   "cell_type": "code",
   "execution_count": 8,
   "metadata": {},
   "outputs": [],
   "source": [
    "teacher = Syclop_Teacher()"
   ]
  },
  {
   "cell_type": "code",
   "execution_count": 9,
   "metadata": {},
   "outputs": [
    {
     "ename": "ValueError",
     "evalue": "The device is failed to open.",
     "output_type": "error",
     "traceback": [
      "\u001b[0;31m---------------------------------------------------------------------------\u001b[0m",
      "\u001b[0;31mValueError\u001b[0m                                Traceback (most recent call last)",
      "\u001b[0;32m<ipython-input-9-52da373c6506>\u001b[0m in \u001b[0;36m<module>\u001b[0;34m\u001b[0m\n\u001b[0;32m----> 1\u001b[0;31m \u001b[0mdevice\u001b[0m \u001b[0;34m=\u001b[0m \u001b[0mDVS128\u001b[0m\u001b[0;34m(\u001b[0m\u001b[0;34m)\u001b[0m\u001b[0;34m\u001b[0m\u001b[0m\n\u001b[0m\u001b[1;32m      2\u001b[0m \u001b[0;34m\u001b[0m\u001b[0m\n\u001b[1;32m      3\u001b[0m \u001b[0;34m\u001b[0m\u001b[0m\n\u001b[1;32m      4\u001b[0m \u001b[0mdevice\u001b[0m\u001b[0;34m.\u001b[0m\u001b[0mstart_data_stream\u001b[0m\u001b[0;34m(\u001b[0m\u001b[0;34m)\u001b[0m\u001b[0;34m\u001b[0m\u001b[0m\n\u001b[1;32m      5\u001b[0m \u001b[0;31m# load new config\u001b[0m\u001b[0;34m\u001b[0m\u001b[0;34m\u001b[0m\u001b[0m\n",
      "\u001b[0;32m/usr/local/lib/python3.5/dist-packages/pyaer/dvs128.py\u001b[0m in \u001b[0;36m__init__\u001b[0;34m(self, device_id, bus_number_restrict, dev_address_restrict, serial_number, noise_filter)\u001b[0m\n\u001b[1;32m     50\u001b[0m         \u001b[0;31m# open device\u001b[0m\u001b[0;34m\u001b[0m\u001b[0;34m\u001b[0m\u001b[0m\n\u001b[1;32m     51\u001b[0m         self.open(device_id, bus_number_restrict,\n\u001b[0;32m---> 52\u001b[0;31m                   dev_address_restrict, serial_number)\n\u001b[0m\u001b[1;32m     53\u001b[0m         \u001b[0;31m# get camera information\u001b[0m\u001b[0;34m\u001b[0m\u001b[0;34m\u001b[0m\u001b[0m\n\u001b[1;32m     54\u001b[0m         \u001b[0mself\u001b[0m\u001b[0;34m.\u001b[0m\u001b[0mobtain_device_info\u001b[0m\u001b[0;34m(\u001b[0m\u001b[0mself\u001b[0m\u001b[0;34m.\u001b[0m\u001b[0mhandle\u001b[0m\u001b[0;34m)\u001b[0m\u001b[0;34m\u001b[0m\u001b[0m\n",
      "\u001b[0;32m/usr/local/lib/python3.5/dist-packages/pyaer/dvs128.py\u001b[0m in \u001b[0;36mopen\u001b[0;34m(self, device_id, bus_number_restrict, dev_address_restrict, serial_number)\u001b[0m\n\u001b[1;32m    159\u001b[0m             \u001b[0mlibcaer\u001b[0m\u001b[0;34m.\u001b[0m\u001b[0mCAER_DEVICE_DVS128\u001b[0m\u001b[0;34m,\u001b[0m \u001b[0mdevice_id\u001b[0m\u001b[0;34m,\u001b[0m\u001b[0;34m\u001b[0m\u001b[0m\n\u001b[1;32m    160\u001b[0m             \u001b[0mbus_number_restrict\u001b[0m\u001b[0;34m,\u001b[0m \u001b[0mdev_address_restrict\u001b[0m\u001b[0;34m,\u001b[0m\u001b[0;34m\u001b[0m\u001b[0m\n\u001b[0;32m--> 161\u001b[0;31m             serial_number)\n\u001b[0m\u001b[1;32m    162\u001b[0m \u001b[0;34m\u001b[0m\u001b[0m\n\u001b[1;32m    163\u001b[0m     \u001b[0;32mdef\u001b[0m \u001b[0mset_bias_from_json\u001b[0m\u001b[0;34m(\u001b[0m\u001b[0mself\u001b[0m\u001b[0;34m,\u001b[0m \u001b[0mfile_path\u001b[0m\u001b[0;34m,\u001b[0m \u001b[0mverbose\u001b[0m\u001b[0;34m=\u001b[0m\u001b[0;32mFalse\u001b[0m\u001b[0;34m)\u001b[0m\u001b[0;34m:\u001b[0m\u001b[0;34m\u001b[0m\u001b[0m\n",
      "\u001b[0;32m/usr/local/lib/python3.5/dist-packages/pyaer/device.py\u001b[0m in \u001b[0;36mopen\u001b[0;34m(self, device_type, device_id, bus_number_restrict, dev_address_restrict, serial_number)\u001b[0m\n\u001b[1;32m    115\u001b[0m             dev_address_restrict, serial_number)\n\u001b[1;32m    116\u001b[0m         \u001b[0;32mif\u001b[0m \u001b[0mself\u001b[0m\u001b[0;34m.\u001b[0m\u001b[0mhandle\u001b[0m \u001b[0;32mis\u001b[0m \u001b[0;32mNone\u001b[0m\u001b[0;34m:\u001b[0m\u001b[0;34m\u001b[0m\u001b[0m\n\u001b[0;32m--> 117\u001b[0;31m             \u001b[0;32mraise\u001b[0m \u001b[0mValueError\u001b[0m\u001b[0;34m(\u001b[0m\u001b[0;34m\"The device is failed to open.\"\u001b[0m\u001b[0;34m)\u001b[0m\u001b[0;34m\u001b[0m\u001b[0m\n\u001b[0m\u001b[1;32m    118\u001b[0m \u001b[0;34m\u001b[0m\u001b[0m\n\u001b[1;32m    119\u001b[0m     \u001b[0;32mdef\u001b[0m \u001b[0mclose\u001b[0m\u001b[0;34m(\u001b[0m\u001b[0mself\u001b[0m\u001b[0;34m)\u001b[0m\u001b[0;34m:\u001b[0m\u001b[0;34m\u001b[0m\u001b[0m\n",
      "\u001b[0;31mValueError\u001b[0m: The device is failed to open."
     ]
    }
   ],
   "source": [
    "device = DVS128()\n",
    "\n",
    "\n",
    "device.start_data_stream()\n",
    "# load new config\n",
    "# device.set_bias_from_json(\"./scripts/configs/dvs128_config.json\")\n",
    "# print (device.get_bias())\n",
    "\n",
    "clip_value = 3\n",
    "histrange = [(0, v) for v in (128, 128)]\n",
    "t_prev = time.time()\n",
    "\n",
    "\n",
    "\n",
    "dt_nom = 0.025\n",
    "# dt_list = []\n",
    "cnt = 0\n",
    "gohome()\n",
    "while True:\n",
    "    t_this = time.time()\n",
    "    try:\n",
    "        (pol_events, num_pol_event,\n",
    "         special_events, num_special_event) = \\\n",
    "            device.get_event(\"events_hist\")\n",
    "        if t_this - t_prev > dt_nom:\n",
    "                if num_pol_event != 0:\n",
    "                    img = pol_events[..., 1]-pol_events[..., 0]\n",
    "                    teacher.step(np.sum(img,axis=0))\n",
    "                    servo.moveByVelocity(0,(int(np.round(teacher.vel))))\n",
    "                    print('debug',np.round(teacher.vel))\n",
    "                    img = np.clip(img, -clip_value, clip_value)\n",
    "                    img = img+clip_value\n",
    "\n",
    "                    cv2.imshow(\"image\", img/float(clip_value*2))\n",
    "                    t_prev=t_this\n",
    "                    if cv2.waitKey(1) & 0xFF == ord('q'):\n",
    "                        break\n",
    "                    cnt +=1\n",
    "\n",
    "    except KeyboardInterrupt:\n",
    "            device.shutdown()\n",
    "            break\n"
   ]
  },
  {
   "cell_type": "code",
   "execution_count": null,
   "metadata": {},
   "outputs": [],
   "source": []
  }
 ],
 "metadata": {
  "kernelspec": {
   "display_name": "Python 3",
   "language": "python",
   "name": "python3"
  },
  "language_info": {
   "codemirror_mode": {
    "name": "ipython",
    "version": 3
   },
   "file_extension": ".py",
   "mimetype": "text/x-python",
   "name": "python",
   "nbconvert_exporter": "python",
   "pygments_lexer": "ipython3",
   "version": "3.5.2"
  }
 },
 "nbformat": 4,
 "nbformat_minor": 2
}
