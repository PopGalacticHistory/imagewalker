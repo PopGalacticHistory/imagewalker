{
 "cells": [
  {
   "cell_type": "code",
   "execution_count": 1,
   "metadata": {},
   "outputs": [
    {
     "name": "stdout",
     "output_type": "stream",
     "text": [
      "--------------------\n",
      "[[[1. 0. 0. 0.]\n",
      "  [0. 1. 0. 0.]\n",
      "  [0. 0. 1. 0.]\n",
      "  [0. 0. 0. 1.]]]\n",
      "[[[5. 0. 0. 0.]\n",
      "  [0. 5. 0. 0.]\n",
      "  [0. 0. 5. 0.]\n",
      "  [0. 0. 0. 5.]]]\n",
      "--------------------\n",
      "--------------------\n",
      "[[[10.  0.  0.  0.]\n",
      "  [ 0. 10.  0.  0.]\n",
      "  [ 0.  0. 10.  0.]\n",
      "  [ 0.  0.  0. 10.]]]\n",
      "[[[5. 0. 0. 0.]\n",
      "  [0. 5. 0. 0.]\n",
      "  [0. 0. 5. 0.]\n",
      "  [0. 0. 0. 5.]]]\n",
      "--------------------\n"
     ]
    }
   ],
   "source": [
    "import tensorflow as tf\n",
    "import numpy as np\n",
    "\n",
    "M = tf.Variable(tf.eye(4, batch_shape=[1]), dtype=tf.float32)\n",
    "M5 = tf.Variable(5*tf.eye(4, batch_shape=[1]), dtype=tf.float32)\n",
    "\n",
    "# loss = tf.nn.l2_loss(M - M_gt)\n",
    "# optimizer = tf.train.AdamOptimizer(0.001)\n",
    "# train_op = optimizer.minimize(loss)\n",
    "sess = tf.Session()\n",
    "init = tf.global_variables_initializer()\n",
    "sess.run(init)\n",
    "# sess.run(train_op)\n",
    "print('--------------------')\n",
    "print(M.eval(sess))\n",
    "print(M5.eval(sess))\n",
    "print('--------------------')\n",
    "\n",
    "uu = tf.assign(M, 2*M5)\n",
    "sess.run(uu)\n",
    "\n",
    "print('--------------------')\n",
    "print(M.eval(sess))\n",
    "print(M5.eval(sess))\n",
    "print('--------------------')\n"
   ]
  },
  {
   "cell_type": "code",
   "execution_count": 6,
   "metadata": {},
   "outputs": [
    {
     "data": {
      "text/plain": [
       "4"
      ]
     },
     "execution_count": 6,
     "metadata": {},
     "output_type": "execute_result"
    }
   ],
   "source": [
    "np.shape(M5)[1].value"
   ]
  },
  {
   "cell_type": "code",
   "execution_count": null,
   "metadata": {},
   "outputs": [],
   "source": []
  }
 ],
 "metadata": {
  "kernelspec": {
   "display_name": "Python 3",
   "language": "python",
   "name": "python3"
  },
  "language_info": {
   "codemirror_mode": {
    "name": "ipython",
    "version": 3
   },
   "file_extension": ".py",
   "mimetype": "text/x-python",
   "name": "python",
   "nbconvert_exporter": "python",
   "pygments_lexer": "ipython3",
   "version": "3.5.2"
  }
 },
 "nbformat": 4,
 "nbformat_minor": 2
}
