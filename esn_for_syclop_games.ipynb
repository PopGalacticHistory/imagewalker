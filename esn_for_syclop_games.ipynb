{
 "cells": [
  {
   "cell_type": "code",
   "execution_count": 1,
   "metadata": {
    "scrolled": true
   },
   "outputs": [],
   "source": [
    "from __future__ import print_function\n",
    "from misc import *\n",
    "\n"
   ]
  },
  {
   "cell_type": "code",
   "execution_count": 2,
   "metadata": {},
   "outputs": [],
   "source": [
    "\"\"\"DVS128 closed loop oscillator routine by Alexander Rivkind, Eldad Assa, Michael Kreiserman and Ehud Ahissar\n",
    "based on: \n",
    "*DVS example by: Yuhuang Hu (duguyue100@gmail.com)\n",
    "*\"Syclop\" paradigm: Ahissar and Assa 2017\n",
    "\"\"\"\n",
    "from reservoir import ESN\n",
    "import numpy as np\n",
    "import time\n",
    "import SYCLOP_env as syc\n",
    "import matplotlib.pyplot as plt\n",
    "\n",
    "\n",
    "import cv2\n",
    "from misc import *\n",
    "import maestro\n",
    "import teachers\n",
    "from pyaer.dvs128 import DVS128\n",
    "%matplotlib notebook"
   ]
  },
  {
   "cell_type": "code",
   "execution_count": 3,
   "metadata": {},
   "outputs": [],
   "source": [
    "servo = maestro.Controller()\n",
    "esn = ESN(n_inputs = 128)\n",
    "esn.hp.g=1.5\n",
    "esn.reset()\n",
    "esn.wfb = esn.wfb*1.0\n",
    "esn.win = kernel_weights_prep(esn.hp.N,128,5)\n",
    "A_net_teacher = 5.0\n",
    "fully_forced = 10"
   ]
  },
  {
   "cell_type": "code",
   "execution_count": 4,
   "metadata": {},
   "outputs": [],
   "source": [
    "def gohome():    \n",
    "    servo.setSpeed(0,0)\n",
    "    servo.setSpeed(1,0)\n",
    "    servo.setTarget(1,7500)     #set speed of servo 1\n",
    "    servo.setTarget(0,5000)  #set servo to move to center position\n",
    "    servo.setSpeed(0,1)\n",
    "    servo.setSpeed(1,1)\n",
    "    time.sleep(1.0)"
   ]
  },
  {
   "cell_type": "code",
   "execution_count": 5,
   "metadata": {},
   "outputs": [],
   "source": [
    "gohome()"
   ]
  },
  {
   "cell_type": "code",
   "execution_count": 6,
   "metadata": {},
   "outputs": [],
   "source": [
    "teacher = teachers.Clipped_Harmonic_1D()"
   ]
  },
  {
   "cell_type": "code",
   "execution_count": 7,
   "metadata": {},
   "outputs": [],
   "source": [
    "# teacher = teachers.Clipped_Unstable_Harmonic_1D()\n",
    "\n",
    "teacher.hp.omega0=teacher.hp.omega0/2.0"
   ]
  },
  {
   "cell_type": "code",
   "execution_count": 8,
   "metadata": {},
   "outputs": [],
   "source": [
    "import pickle"
   ]
  },
  {
   "cell_type": "code",
   "execution_count": 9,
   "metadata": {},
   "outputs": [],
   "source": [
    "with open('games_s2.pkl','rb') as f:\n",
    "    esn = pickle.load(f)"
   ]
  },
  {
   "cell_type": "code",
   "execution_count": 10,
   "metadata": {},
   "outputs": [
    {
     "name": "stdout",
     "output_type": "stream",
     "text": [
      "13287 / 27368 / 84  / 1031 / 1258 / 3051 3252  / 4202  / 4287  / 4782  / 5039  / 7726  / 7813 / 8391  / 9580  / 9960  / 11808  / 12460 / 13417   / 15173  / 15695 15709 15871  / 16008 / 16254  / 16891 17990 18209  / 18295  / 18337  / 19974  21967   / 23775  / 24762  \r"
     ]
    },
    {
     "ename": "SystemError",
     "evalue": "<built-in function caerDeviceDataGet> returned a result with an error set",
     "output_type": "error",
     "traceback": [
      "\u001b[0;31m---------------------------------------------------------------------------\u001b[0m",
      "\u001b[0;31mKeyboardInterrupt\u001b[0m                         Traceback (most recent call last)",
      "\u001b[0;31mKeyboardInterrupt\u001b[0m: ",
      "\nDuring handling of the above exception, another exception occurred:\n",
      "\u001b[0;31mSystemError\u001b[0m                               Traceback (most recent call last)",
      "\u001b[0;32m<ipython-input-10-c074fb14fc3c>\u001b[0m in \u001b[0;36m<module>\u001b[0;34m\u001b[0m\n\u001b[1;32m     25\u001b[0m         (pol_events, num_pol_event,\n\u001b[1;32m     26\u001b[0m          special_events, num_special_event) = \\\n\u001b[0;32m---> 27\u001b[0;31m             \u001b[0mdevice\u001b[0m\u001b[0;34m.\u001b[0m\u001b[0mget_event\u001b[0m\u001b[0;34m(\u001b[0m\u001b[0;34m\"events_hist\"\u001b[0m\u001b[0;34m)\u001b[0m\u001b[0;34m\u001b[0m\u001b[0m\n\u001b[0m\u001b[1;32m     28\u001b[0m         \u001b[0;32mif\u001b[0m \u001b[0mt_this\u001b[0m \u001b[0;34m-\u001b[0m \u001b[0mt_prev\u001b[0m \u001b[0;34m>\u001b[0m \u001b[0mdt_nom\u001b[0m\u001b[0;34m:\u001b[0m\u001b[0;34m\u001b[0m\u001b[0m\n\u001b[1;32m     29\u001b[0m                 \u001b[0;32mif\u001b[0m \u001b[0mnum_pol_event\u001b[0m \u001b[0;34m!=\u001b[0m \u001b[0;36m0\u001b[0m\u001b[0;34m:\u001b[0m\u001b[0;34m\u001b[0m\u001b[0m\n",
      "\u001b[0;32m/usr/local/lib/python3.5/dist-packages/pyaer/dvs128.py\u001b[0m in \u001b[0;36mget_event\u001b[0;34m(self, mode)\u001b[0m\n\u001b[1;32m    372\u001b[0m                 \u001b[0mnumber\u001b[0m \u001b[0mof\u001b[0m \u001b[0mthe\u001b[0m \u001b[0mspecial\u001b[0m \u001b[0mevents\u001b[0m \u001b[0;32min\u001b[0m \u001b[0mthe\u001b[0m \u001b[0mpacket\u001b[0m\u001b[0;34m.\u001b[0m\u001b[0;34m\u001b[0m\u001b[0m\n\u001b[1;32m    373\u001b[0m         \"\"\"\n\u001b[0;32m--> 374\u001b[0;31m         \u001b[0mpacket_container\u001b[0m\u001b[0;34m,\u001b[0m \u001b[0mpacket_number\u001b[0m \u001b[0;34m=\u001b[0m \u001b[0mself\u001b[0m\u001b[0;34m.\u001b[0m\u001b[0mget_packet_container\u001b[0m\u001b[0;34m(\u001b[0m\u001b[0;34m)\u001b[0m\u001b[0;34m\u001b[0m\u001b[0m\n\u001b[0m\u001b[1;32m    375\u001b[0m         \u001b[0;32mif\u001b[0m \u001b[0mpacket_container\u001b[0m \u001b[0;32mis\u001b[0m \u001b[0;32mnot\u001b[0m \u001b[0;32mNone\u001b[0m\u001b[0;34m:\u001b[0m\u001b[0;34m\u001b[0m\u001b[0m\n\u001b[1;32m    376\u001b[0m             \u001b[0mnum_pol_event\u001b[0m \u001b[0;34m=\u001b[0m \u001b[0;36m0\u001b[0m\u001b[0;34m\u001b[0m\u001b[0m\n",
      "\u001b[0;32m/usr/local/lib/python3.5/dist-packages/pyaer/device.py\u001b[0m in \u001b[0;36mget_packet_container\u001b[0;34m(self)\u001b[0m\n\u001b[1;32m    263\u001b[0m                 \u001b[0mnumber\u001b[0m \u001b[0mof\u001b[0m \u001b[0mevent\u001b[0m \u001b[0mpacket\u001b[0m \u001b[0;32min\u001b[0m \u001b[0mthe\u001b[0m \u001b[0mcontainer\u001b[0m\u001b[0;34m.\u001b[0m\u001b[0;34m\u001b[0m\u001b[0m\n\u001b[1;32m    264\u001b[0m         \"\"\"\n\u001b[0;32m--> 265\u001b[0;31m         \u001b[0mpacket_container\u001b[0m \u001b[0;34m=\u001b[0m \u001b[0mlibcaer\u001b[0m\u001b[0;34m.\u001b[0m\u001b[0mcaerDeviceDataGet\u001b[0m\u001b[0;34m(\u001b[0m\u001b[0mself\u001b[0m\u001b[0;34m.\u001b[0m\u001b[0mhandle\u001b[0m\u001b[0;34m)\u001b[0m\u001b[0;34m\u001b[0m\u001b[0m\n\u001b[0m\u001b[1;32m    266\u001b[0m         \u001b[0;32mif\u001b[0m \u001b[0mpacket_container\u001b[0m \u001b[0;32mis\u001b[0m \u001b[0;32mnot\u001b[0m \u001b[0;32mNone\u001b[0m\u001b[0;34m:\u001b[0m\u001b[0;34m\u001b[0m\u001b[0m\n\u001b[1;32m    267\u001b[0m             \u001b[0mpacket_number\u001b[0m \u001b[0;34m=\u001b[0m\u001b[0;31m \u001b[0m\u001b[0;31m\\\u001b[0m\u001b[0;34m\u001b[0m\u001b[0m\n",
      "\u001b[0;32m/usr/local/lib/python3.5/dist-packages/pyaer/libcaer_wrap.py\u001b[0m in \u001b[0;36mcaerDeviceDataGet\u001b[0;34m(handle)\u001b[0m\n\u001b[1;32m    221\u001b[0m \u001b[0;32mdef\u001b[0m \u001b[0mcaerDeviceDataGet\u001b[0m\u001b[0;34m(\u001b[0m\u001b[0mhandle\u001b[0m\u001b[0;34m)\u001b[0m\u001b[0;34m:\u001b[0m\u001b[0;34m\u001b[0m\u001b[0m\n\u001b[1;32m    222\u001b[0m     \u001b[0;34mr\"\"\"caerDeviceDataGet(caerDeviceHandle handle) -> caer_event_packet_container\"\"\"\u001b[0m\u001b[0;34m\u001b[0m\u001b[0m\n\u001b[0;32m--> 223\u001b[0;31m     \u001b[0;32mreturn\u001b[0m \u001b[0m_libcaer_wrap\u001b[0m\u001b[0;34m.\u001b[0m\u001b[0mcaerDeviceDataGet\u001b[0m\u001b[0;34m(\u001b[0m\u001b[0mhandle\u001b[0m\u001b[0;34m)\u001b[0m\u001b[0;34m\u001b[0m\u001b[0m\n\u001b[0m\u001b[1;32m    224\u001b[0m \u001b[0mCAER_HOST_CONFIG_USB\u001b[0m \u001b[0;34m=\u001b[0m \u001b[0m_libcaer_wrap\u001b[0m\u001b[0;34m.\u001b[0m\u001b[0mCAER_HOST_CONFIG_USB\u001b[0m\u001b[0;34m\u001b[0m\u001b[0m\n\u001b[1;32m    225\u001b[0m \u001b[0;34m\u001b[0m\u001b[0m\n",
      "\u001b[0;31mSystemError\u001b[0m: <built-in function caerDeviceDataGet> returned a result with an error set"
     ]
    }
   ],
   "source": [
    "training = False\n",
    "device = DVS128()\n",
    "\n",
    "\n",
    "device.start_data_stream()\n",
    "# load new config\n",
    "# device.set_bias_from_json(\"./scripts/configs/dvs128_config.json\")\n",
    "# print (device.get_bias())\n",
    "\n",
    "clip_value = 3\n",
    "histrange = [(0, v) for v in (128, 128)]\n",
    "t_prev = time.time()\n",
    "\n",
    "\n",
    "\n",
    "dt_nom = 0.025\n",
    "# dt_list = []\n",
    "cnt = 0\n",
    "empty_cnt = 0\n",
    "\n",
    "gohome()\n",
    "while True:\n",
    "    t_this = time.time()\n",
    "    try:\n",
    "        (pol_events, num_pol_event,\n",
    "         special_events, num_special_event) = \\\n",
    "            device.get_event(\"events_hist\")\n",
    "        if t_this - t_prev > dt_nom:\n",
    "                if num_pol_event != 0:\n",
    "                    img = pol_events[..., 1]-pol_events[..., 0]\n",
    "                    observation=np.sum(img**2,axis=0)\n",
    "                    esn.step(uin = observation)\n",
    "                    if training:\n",
    "                        teacher.step(observation)\n",
    "                        esn.FORCE_step(teacher.vel/A_net_teacher)\n",
    "                    if cnt > fully_forced:\n",
    "                        servo.moveByVelocity(0,(int(np.round(A_net_teacher*esn.z))))\n",
    "                    else:\n",
    "                        print('full force:', end='')\n",
    "                        servo.moveByVelocity(0,(int(np.round(teacher.vel))))\n",
    "                    img = np.clip(img, -clip_value, clip_value)\n",
    "                    img = img+clip_value\n",
    "                    print(cnt,'/',empty_cnt,'\\r',end='')\n",
    "                    cv2.imshow(\"image\", img/float(clip_value*2))\n",
    "                    t_prev=t_this\n",
    "                    if cv2.waitKey(1) & 0xFF == ord('q'):\n",
    "                        break\n",
    "                    cnt += 1\n",
    "        else:\n",
    "            empty_cnt += 1\n",
    "\n",
    "    except KeyboardInterrupt:\n",
    "            device.shutdown()\n",
    "            break\n"
   ]
  },
  {
   "cell_type": "code",
   "execution_count": null,
   "metadata": {},
   "outputs": [],
   "source": [
    "import pickle"
   ]
  },
  {
   "cell_type": "code",
   "execution_count": null,
   "metadata": {},
   "outputs": [],
   "source": [
    "# with open('games_s2.pkl','wb') as f:\n",
    "#     pickle.dump(esn,f)"
   ]
  },
  {
   "cell_type": "code",
   "execution_count": null,
   "metadata": {},
   "outputs": [],
   "source": [
    "np.sum(esn.wout*esn.wfb)"
   ]
  },
  {
   "cell_type": "code",
   "execution_count": null,
   "metadata": {},
   "outputs": [],
   "source": [
    "np.max(np.imag(np.linalg.eig(esn.W)[0]))"
   ]
  },
  {
   "cell_type": "code",
   "execution_count": null,
   "metadata": {},
   "outputs": [],
   "source": []
  }
 ],
 "metadata": {
  "kernelspec": {
   "display_name": "Python 3",
   "language": "python",
   "name": "python3"
  },
  "language_info": {
   "codemirror_mode": {
    "name": "ipython",
    "version": 3
   },
   "file_extension": ".py",
   "mimetype": "text/x-python",
   "name": "python",
   "nbconvert_exporter": "python",
   "pygments_lexer": "ipython3",
   "version": "3.5.2"
  }
 },
 "nbformat": 4,
 "nbformat_minor": 2
}
