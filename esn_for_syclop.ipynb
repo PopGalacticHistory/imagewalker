{
 "cells": [
  {
   "cell_type": "code",
   "execution_count": 1,
   "metadata": {
    "scrolled": true
   },
   "outputs": [],
   "source": [
    "from __future__ import print_function\n",
    "from misc import *\n",
    "\n"
   ]
  },
  {
   "cell_type": "code",
   "execution_count": 3,
   "metadata": {},
   "outputs": [],
   "source": [
    "\"\"\"DVS128 closed loop oscillator routine by Alexander Rivkind, Eldad Assa, Michael Kreiserman and Ehud Ahissar\n",
    "based on: \n",
    "*DVS example by: Yuhuang Hu (duguyue100@gmail.com)\n",
    "*\"Syclop\" paradigm: Ahissar and Assa 2017\n",
    "\"\"\"\n",
    "from reservoir import ESN\n",
    "import numpy as np\n",
    "import time\n",
    "import SYCLOP_env as syc\n",
    "import matplotlib.pyplot as plt\n",
    "\n",
    "\n",
    "import cv2\n",
    "\n",
    "import maestro\n",
    "import teachers\n",
    "from pyaer.dvs128 import DVS128\n",
    "%matplotlib notebook"
   ]
  },
  {
   "cell_type": "code",
   "execution_count": null,
   "metadata": {},
   "outputs": [],
   "source": [
    "class  Syclop_Teacher:\n",
    "    def __init__(self):\n",
    "        self.hp = HP()\n",
    "        self.hp.dt = 0.1\n",
    "        self.hp.omega0 = 2*np.pi / 10.\n",
    "        self.hp.A = 5.0 #target amplitude of oscillations. Target max speed is hence omega*A\n",
    "        self.hp.noi = 0.01\n",
    "        self.speed_lim = self.hp.omega0 * self.hp.A\n",
    "        self.vel = 0\n",
    "    def step(self,dvs_strip):        \n",
    "        dvs_strip = dvs_strip + self.hp.noi*np.random.normal(size=np.shape(dvs_strip))\n",
    "        I = dvs_strip**2.0\n",
    "        I = I/(np.sum(I)+1e-10)\n",
    "        centre = np.sum(I*np.array(range(len(dvs_strip))))- len(dvs_strip)/2.0 \n",
    "#         print('centre:',centre)\n",
    "        self.vel += self.hp.dt*self.hp.omega0*centre \n",
    "        self.vel = self.vel if np.abs(self.vel)<self.speed_lim else self.speed_lim*np.sign(self.vel)"
   ]
  },
  {
   "cell_type": "code",
   "execution_count": 4,
   "metadata": {},
   "outputs": [],
   "source": [
    "def kernel_weights_prep(n,m,w, kernel = None):\n",
    "    if kernel is None:\n",
    "        kernel = lambda x,mu: np.exp(-(x-mu)**2./(2.*w**2))/np.sqrt(np.pi)/w\n",
    "    wk=np.zeros([n,m])\n",
    "    for mm in range(m):\n",
    "        v = np.linspace(0,m-1,n)\n",
    "        wk[:,mm] = kernel(v,mm)\n",
    "    return wk"
   ]
  },
  {
   "cell_type": "code",
   "execution_count": 5,
   "metadata": {},
   "outputs": [],
   "source": [
    "servo = maestro.Controller()\n",
    "esn = ESN(n_inputs = 128)\n",
    "esn.hp.g=1.5\n",
    "esn.reset()\n",
    "esn.wfb = esn.wfb*1.0\n",
    "esn.win = 5*kernel_weights_prep(esn.hp.N,128,5)\n",
    "A_net_teacher = 5.0\n",
    "fully_forced = 10"
   ]
  },
  {
   "cell_type": "code",
   "execution_count": 6,
   "metadata": {},
   "outputs": [],
   "source": [
    "def gohome():    \n",
    "    servo.setSpeed(0,0)\n",
    "    servo.setSpeed(1,0)\n",
    "    servo.setTarget(1,7500)     #set speed of servo 1\n",
    "    servo.setTarget(0,5000)  #set servo to move to center position\n",
    "    servo.setSpeed(0,1)\n",
    "    servo.setSpeed(1,1)\n",
    "    time.sleep(1.0)"
   ]
  },
  {
   "cell_type": "code",
   "execution_count": null,
   "metadata": {},
   "outputs": [],
   "source": [
    "gohome()"
   ]
  },
  {
   "cell_type": "code",
   "execution_count": null,
   "metadata": {},
   "outputs": [],
   "source": [
    "#teacher = Syclop_Teacher()"
   ]
  },
  {
   "cell_type": "code",
   "execution_count": 7,
   "metadata": {},
   "outputs": [],
   "source": [
    "teacher = teachers.Clipped_Harmonic_1D()"
   ]
  },
  {
   "cell_type": "code",
   "execution_count": 11,
   "metadata": {},
   "outputs": [
    {
     "name": "stdout",
     "output_type": "stream",
     "text": [
      "2637 / 5490 0 / 83  / 438  / 1743  / 2459 2583  / 2757  / 2968  / 3201  / 3577  / 3679   4414  / 5007 \r"
     ]
    }
   ],
   "source": [
    "training = False\n",
    "device = DVS128()\n",
    "\n",
    "\n",
    "device.start_data_stream()\n",
    "# load new config\n",
    "# device.set_bias_from_json(\"./scripts/configs/dvs128_config.json\")\n",
    "# print (device.get_bias())\n",
    "\n",
    "clip_value = 3\n",
    "histrange = [(0, v) for v in (128, 128)]\n",
    "t_prev = time.time()\n",
    "\n",
    "\n",
    "\n",
    "dt_nom = 0.025\n",
    "# dt_list = []\n",
    "cnt = 0\n",
    "empty_cnt = 0\n",
    "\n",
    "gohome()\n",
    "while True:\n",
    "    t_this = time.time()\n",
    "    try:\n",
    "        (pol_events, num_pol_event,\n",
    "         special_events, num_special_event) = \\\n",
    "            device.get_event(\"events_hist\")\n",
    "        if t_this - t_prev > dt_nom:\n",
    "                if num_pol_event != 0:\n",
    "                    img = pol_events[..., 1]-pol_events[..., 0]\n",
    "                    observation=np.sum(img,axis=0)**2\n",
    "                    esn.step(uin = observation)\n",
    "                    if training:\n",
    "                        teacher.step(observation)\n",
    "                        esn.FORCE_step(teacher.vel/A_net_teacher)\n",
    "                    if cnt > fully_forced:\n",
    "                        servo.moveByVelocity(0,(int(np.round(A_net_teacher*esn.z))))\n",
    "                    else:\n",
    "                        print('full force:', end='')\n",
    "                        servo.moveByVelocity(0,(int(np.round(teacher.vel))))\n",
    "                    img = np.clip(img, -clip_value, clip_value)\n",
    "                    img = img+clip_value\n",
    "                    print(cnt,'/',empty_cnt,'\\r',end='')\n",
    "                    cv2.imshow(\"image\", img/float(clip_value*2))\n",
    "                    t_prev=t_this\n",
    "                    if cv2.waitKey(1) & 0xFF == ord('q'):\n",
    "                        break\n",
    "                    cnt += 1\n",
    "        else:\n",
    "            empty_cnt += 1\n",
    "\n",
    "    except KeyboardInterrupt:\n",
    "            device.shutdown()\n",
    "            break\n"
   ]
  },
  {
   "cell_type": "code",
   "execution_count": null,
   "metadata": {},
   "outputs": [],
   "source": [
    "cnt, empty_cnt"
   ]
  },
  {
   "cell_type": "code",
   "execution_count": 9,
   "metadata": {},
   "outputs": [],
   "source": [
    "import pickle"
   ]
  },
  {
   "cell_type": "code",
   "execution_count": 10,
   "metadata": {},
   "outputs": [],
   "source": [
    "with open('deleteme6.pkl','wb') as f:\n",
    "    pickle.dump(esn,f)"
   ]
  },
  {
   "cell_type": "code",
   "execution_count": null,
   "metadata": {},
   "outputs": [],
   "source": [
    "np.sum(esn.wout*esn.wfb)"
   ]
  },
  {
   "cell_type": "code",
   "execution_count": null,
   "metadata": {},
   "outputs": [],
   "source": [
    "np.max(np.imag(np.linalg.eig(esn.W)[0]))"
   ]
  },
  {
   "cell_type": "code",
   "execution_count": null,
   "metadata": {},
   "outputs": [],
   "source": [
    "import pickle"
   ]
  },
  {
   "cell_type": "code",
   "execution_count": null,
   "metadata": {},
   "outputs": [],
   "source": [
    "with open('deleteme4.pkl','rb') as f:\n",
    "    esn = pickle.load(f)"
   ]
  },
  {
   "cell_type": "code",
   "execution_count": null,
   "metadata": {},
   "outputs": [],
   "source": []
  }
 ],
 "metadata": {
  "kernelspec": {
   "display_name": "Python 3",
   "language": "python",
   "name": "python3"
  },
  "language_info": {
   "codemirror_mode": {
    "name": "ipython",
    "version": 3
   },
   "file_extension": ".py",
   "mimetype": "text/x-python",
   "name": "python",
   "nbconvert_exporter": "python",
   "pygments_lexer": "ipython3",
   "version": "3.5.2"
  }
 },
 "nbformat": 4,
 "nbformat_minor": 2
}
