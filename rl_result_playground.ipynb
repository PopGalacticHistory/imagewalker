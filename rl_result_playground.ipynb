{
 "cells": [
  {
   "cell_type": "code",
   "execution_count": 1,
   "metadata": {},
   "outputs": [],
   "source": [
    "import pickle \n",
    "import matplotlib.pyplot as plt"
   ]
  },
  {
   "cell_type": "code",
   "execution_count": 10,
   "metadata": {},
   "outputs": [],
   "source": [
    "import numpy as np"
   ]
  },
  {
   "cell_type": "code",
   "execution_count": 65,
   "metadata": {},
   "outputs": [],
   "source": [
    "with open('history/rl_history1547540676.6309557.pkl','rb') as f:\n",
    "    uu = pickle.load(f)"
   ]
  },
  {
   "cell_type": "code",
   "execution_count": 66,
   "metadata": {},
   "outputs": [],
   "source": [
    "%matplotlib inline"
   ]
  },
  {
   "cell_type": "code",
   "execution_count": 67,
   "metadata": {},
   "outputs": [],
   "source": [
    "def my_print_array(a):\n",
    "    uu=''\n",
    "    for ii in range(a.shape[0]):\n",
    "        for jj in range(a.shape[1]):\n",
    "            uu +=a[ii,jj]\n",
    "        uu += '\\n'\n",
    "    print(uu)\n",
    "\n",
    "def num2srt_actions(actions_by_num):\n",
    "    action_space = ['u', 'd', 'l', 'r']\n",
    "    return [action_space[a] for a in actions_by_num]"
   ]
  },
  {
   "cell_type": "code",
   "execution_count": 68,
   "metadata": {},
   "outputs": [],
   "source": [
    "aa,bb,cc = uu"
   ]
  },
  {
   "cell_type": "code",
   "execution_count": 69,
   "metadata": {},
   "outputs": [
    {
     "data": {
      "text/plain": [
       "[<matplotlib.lines.Line2D at 0x7f140de3c828>]"
      ]
     },
     "execution_count": 69,
     "metadata": {},
     "output_type": "execute_result"
    },
    {
     "data": {
      "image/png": "[encoded data removed]",
      "text/plain": [
       "<Figure size 432x288 with 1 Axes>"
      ]
     },
     "metadata": {
      "needs_background": "light"
     },
     "output_type": "display_data"
    }
   ],
   "source": [
    "plt.plot(np.convolve(np.ones(10000)/10000,   aa))"
   ]
  },
  {
   "cell_type": "code",
   "execution_count": 55,
   "metadata": {
    "scrolled": true
   },
   "outputs": [],
   "source": [
    "tt=420000\n",
    "ii=0\n",
    "for z in bb:\n",
    "    ii+=1\n",
    "    if z[0]>tt:\n",
    "        break"
   ]
  },
  {
   "cell_type": "code",
   "execution_count": 56,
   "metadata": {},
   "outputs": [
    {
     "data": {
      "text/plain": [
       "[430000, array([[0.        , 0.        ],\n",
       "        [0.        , 0.03571429],\n",
       "        [0.        , 0.07142857],\n",
       "        ...,\n",
       "        [0.96428571, 0.89285714],\n",
       "        [0.96428571, 0.92857143],\n",
       "        [0.96428571, 0.96428571]]), array([[-1.199694  ,  1.2890419 ,  1.2995701 ,  2.1718442 ],\n",
       "        [-1.2206063 ,  0.7977735 ,  0.8371087 , -0.68461055],\n",
       "        [-1.7353673 ,  1.4337457 ,  0.26387686, -0.55958277],\n",
       "        ...,\n",
       "        [ 2.4582872 ,  2.6598995 , -4.0991163 ,  3.064658  ],\n",
       "        [ 2.3529825 ,  2.408016  , -3.4613245 ,  3.3848364 ],\n",
       "        [ 2.260405  ,  2.1731756 , -2.8079636 ,  3.6448698 ]],\n",
       "       dtype=float32)]"
      ]
     },
     "execution_count": 56,
     "metadata": {},
     "output_type": "execute_result"
    }
   ],
   "source": [
    "bb[ii]"
   ]
  },
  {
   "cell_type": "code",
   "execution_count": 60,
   "metadata": {},
   "outputs": [
    {
     "name": "stdout",
     "output_type": "stream",
     "text": [
      "ddddddddddddddddddlllrrrrrrr\n",
      "dddddddddddddddddlllrrrrrrrr\n",
      "dddddddddddddddddllrrrrrrrrr\n",
      "ddddddddddddddddlllrrrrrrrrd\n",
      "dddddddddddddddlllrrrrrrrrdd\n",
      "ddddddddddddddlllrrrrrrruddd\n",
      "ddddddddddddddllrrrrrruuuddd\n",
      "dddddddddddddlllrrrrruuudddd\n",
      "ddddddddddddlllrrrruuuuddddd\n",
      "ddddddddddddllrrrruuuudddddd\n",
      "dddddddddddlllrrruuuuudddddu\n",
      "ddddddddddlllrrruuuuudddduuu\n",
      "dddddddddlllrrruuuuudddduuuu\n",
      "dddddddddllrrruuuuudddduuuuu\n",
      "ddddddddlllrruuuuuudduuuuuuu\n",
      "dddddddlllrruuuuuudduuuuuuuu\n",
      "ddddddlllrruuuuuuuuuuuuuuuuu\n",
      "dddddllllruuuuuuuuuuuuuuuuuu\n",
      "dddddlllruuuuuuuuuuuuuuuuuuu\n",
      "ddddlllruuuuuuuuuuuuuuuuuuuu\n",
      "dddlllruuuuuuuuuuuuuuuuuuuuu\n",
      "dddlllruuuuuuuuuuuuuuuuuuuuu\n",
      "ddlllruuuuuuuuuuuuuuuuuuuuuu\n",
      "ddlluuuuuuuuuuuuuuuuuuuuuuuu\n",
      "dlluuuuuuuuuuuuuuuuuuuuuuuuu\n",
      "dluuuuuuuuuuuuuuuuuuuuuuuuuu\n",
      "lruuuuuuuuuuuuuuuuuuuuuuuuuu\n",
      "rrdduuuuuuuuuuuuuuuuuuuuuuuu\n",
      "\n"
     ]
    }
   ],
   "source": [
    "my_print_array(np.flip(np.array(num2srt_actions(np.argmax(bb[ii][2], axis=1))).reshape((28,28)).transpose(), axis=0))\n"
   ]
  },
  {
   "cell_type": "code",
   "execution_count": 61,
   "metadata": {},
   "outputs": [
    {
     "name": "stdout",
     "output_type": "stream",
     "text": [
      "ddddddddddddddddddlluuuuuuud\n",
      "dddddddddddddddddlluuuuuuudd\n",
      "ddddddddddddddddlllruuuuuddd\n",
      "ddddddddddddddddllruuuuudddd\n",
      "dddddddddddddddllrruuuuudddd\n",
      "ddddddddddddddlllruuuuuddddd\n",
      "ddddddddddddddllrruuuudddddd\n",
      "dddddddddddddllrruuuuudddddd\n",
      "ddddddddddddlllruuuuuddddddd\n",
      "dddddddddddlllruuuuudddddddd\n",
      "dddddddddddllruuuuuudddddduu\n",
      "ddddddddddllrruuuuudddddduuu\n",
      "dddddddddlllruuuuudddddduuuu\n",
      "ddddddddlllruuuuudddddduuuuu\n",
      "ddddddddllruuuuuuddddduuuuuu\n",
      "dddddddllluuuuuuddddduuuuuuu\n",
      "ddddddllluuuuuudddduuuuuuuuu\n",
      "dddddllluuuuuudddduuuuuuuuuu\n",
      "dddddlluuuuuudddduuuuuuuuuuu\n",
      "ddddllluuuuuuddduuuuuuuuuuuu\n",
      "dddllluuuuuudduuuuuuuuuuuuuu\n",
      "dddlluuuuuudduuuuuuuuuuuuuuu\n",
      "ddlluuuuuuduuuuuuuuuuuuuuuuu\n",
      "ddlluuuuuuuuuuuuuuuuuuuuuuuu\n",
      "dlluuuuuuuuuuuuuuuuuuuuuuuuu\n",
      "dluuuuuuuuuuuuuuuuuuuuuuuuuu\n",
      "luuuuuuuuuuuuuuuuuuuuuuuuuuu\n",
      "luuuuuuuuuuuuuuuuuuuuuuuuuuu\n",
      "\n"
     ]
    }
   ],
   "source": [
    "my_print_array(np.flip(np.array(num2srt_actions(np.argmax(bb[ii-20][2], axis=1))).reshape((28,28)).transpose(), axis=0))\n"
   ]
  },
  {
   "cell_type": "code",
   "execution_count": null,
   "metadata": {},
   "outputs": [],
   "source": []
  }
 ],
 "metadata": {
  "kernelspec": {
   "display_name": "Python 3",
   "language": "python",
   "name": "python3"
  },
  "language_info": {
   "codemirror_mode": {
    "name": "ipython",
    "version": 3
   },
   "file_extension": ".py",
   "mimetype": "text/x-python",
   "name": "python",
   "nbconvert_exporter": "python",
   "pygments_lexer": "ipython3",
   "version": "3.5.2"
  }
 },
 "nbformat": 4,
 "nbformat_minor": 2
}
