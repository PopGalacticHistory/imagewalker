{
 "cells": [
  {
   "cell_type": "code",
   "execution_count": 1,
   "metadata": {},
   "outputs": [],
   "source": [
    "from RL_networks import Network\n",
    "from mnist import MNIST\n",
    "import tensorflow as tf\n",
    "import numpy as np"
   ]
  },
  {
   "cell_type": "code",
   "execution_count": 2,
   "metadata": {},
   "outputs": [],
   "source": [
    "mnist = MNIST('/home/bnapp/datasets/mnist/')\n",
    "images, labels = mnist.load_training()\n",
    "images_test, labels_test = mnist.load_testing()\n",
    "\n",
    "labels_one_hot=1.0*(np.reshape(np.array(range(10)),[1,-1])==np.reshape(labels,[-1,1]))\n",
    "images_2d=np.reshape(images,[-1,28,28,1])\n",
    "images_2d_test=np.reshape(images_test,[-1,28,28,1])"
   ]
  },
  {
   "cell_type": "code",
   "execution_count": 3,
   "metadata": {},
   "outputs": [],
   "source": [
    "class Network_ext:\n",
    "    def __init__(self,n_inputs, n_outputs, learning_rate):\n",
    "        self.net = Network(n_inputs, n_outputs, trainable=True, lr=learning_rate,arch='conv')\n",
    "        \n",
    "    def assign_session_to_nwk(self, sess):\n",
    "        self.sess = sess\n",
    "        self.net.sess = sess\n",
    "\n",
    "    def training_step(self, observations, q_target):\n",
    "        return self.sess.run([self.net.train_op,self.net.loss],\n",
    "                  feed_dict={self.net.observations: observations,\n",
    "                             self.net.q_target: q_target})\n",
    "\n",
    "    def eval_eval(self,observations):   #this one replaces previous eval method, renamed to avoid reserved words.\n",
    "        return self.sess.run(self.net.estimator,\n",
    "                  feed_dict={self.net.observations: observations})"
   ]
  },
  {
   "cell_type": "code",
   "execution_count": 4,
   "metadata": {},
   "outputs": [
    {
     "name": "stdout",
     "output_type": "stream",
     "text": [
      "debu: [28, 28, 32]\n",
      "debu2: [1, 14, 14, 32]\n",
      "debu: [14, 14, 16]\n",
      "debu2: [1, 7, 7, 16]\n"
     ]
    }
   ],
   "source": [
    "sess = tf.Session()\n",
    "# net=Network_ext(784,10,1e-3)\n",
    "net=Network_ext([28,28,1],10,1e-3)\n",
    "net.assign_session_to_nwk(sess)\n",
    "sess.run(tf.global_variables_initializer())"
   ]
  },
  {
   "cell_type": "code",
   "execution_count": 5,
   "metadata": {},
   "outputs": [],
   "source": [
    "training_steps = 1000\n",
    "batch_size = 128\n",
    "epochs=20"
   ]
  },
  {
   "cell_type": "code",
   "execution_count": 11,
   "metadata": {},
   "outputs": [
    {
     "name": "stdout",
     "output_type": "stream",
     "text": [
      "epoch:  0  accuracy:  0.876 ( 0.883 )\n",
      "epoch:  1  accuracy:  0.899 ( 0.907 )\n",
      "epoch:  2  accuracy:  0.875 ( 0.906 )\n",
      "epoch:  3  accuracy:  0.847 ( 0.864 )\n",
      "epoch:  4  accuracy:  0.874 ( 0.902 )\n",
      "epoch:  5  accuracy:  0.874 ( 0.895 )\n",
      "epoch:  6  accuracy:  0.858 ( 0.868 )\n",
      "epoch:  7  accuracy:  0.888 ( 0.909 )\n",
      "epoch:  8  accuracy:  0.857 ( 0.891 )\n",
      "epoch:  9  accuracy:  0.888 ( 0.913 )\n",
      "epoch:  10  accuracy:  0.858 ( 0.889 )\n",
      "epoch:  11  accuracy:  0.883 ( 0.898 )\n",
      "epoch:  12  accuracy:  0.716 ( 0.753 )\n",
      "epoch:  13  accuracy:  0.778 ( 0.83 )\n",
      "epoch:  14  accuracy:  0.848 ( 0.892 )\n",
      "epoch:  15  accuracy:  0.882 ( 0.903 )\n",
      "epoch:  16  accuracy:  0.877 ( 0.898 )\n",
      "epoch:  17  accuracy:  0.867 ( 0.89 )\n",
      "epoch:  18  accuracy:  0.871 ( 0.915 )\n",
      "epoch:  19  accuracy:  0.894 ( 0.905 )\n"
     ]
    }
   ],
   "source": [
    "for epoch in range(epochs):\n",
    "    for step in range(len(images)//batch_size):\n",
    "        x=images_2d[step*batch_size:(step+1)*batch_size]\n",
    "        y=labels_one_hot[step*batch_size:(step+1)*batch_size]\n",
    "        net.training_step(x,y)\n",
    "    y_hat_test=net.eval_eval(images_2d_test[:1000])\n",
    "    accuracy=np.mean(np.argmax(y_hat_test,axis=1)==labels_test[:1000])\n",
    "    y_hat_train=net.eval_eval(images_2d[:1000])\n",
    "    accuracy_train=np.mean(np.argmax(y_hat_train,axis=1)==labels[:1000])\n",
    "    \n",
    "    print('epoch: ',epoch,' accuracy: ', accuracy, '(',accuracy_train,')')"
   ]
  },
  {
   "cell_type": "code",
   "execution_count": 7,
   "metadata": {
    "collapsed": true
   },
   "outputs": [
    {
     "ename": "ValueError",
     "evalue": "Cannot feed value of shape (10000, 784) for Tensor 'Placeholder:0', which has shape '(?, 28, 28, 1)'",
     "output_type": "error",
     "traceback": [
      "\u001b[0;31m---------------------------------------------------------------------------\u001b[0m",
      "\u001b[0;31mValueError\u001b[0m                                Traceback (most recent call last)",
      "\u001b[0;32m<ipython-input-7-f4d40f7db380>\u001b[0m in \u001b[0;36m<module>\u001b[0;34m\u001b[0m\n\u001b[0;32m----> 1\u001b[0;31m \u001b[0my_hat_test\u001b[0m\u001b[0;34m=\u001b[0m\u001b[0mnet\u001b[0m\u001b[0;34m.\u001b[0m\u001b[0meval_eval\u001b[0m\u001b[0;34m(\u001b[0m\u001b[0mimages_test\u001b[0m\u001b[0;34m)\u001b[0m\u001b[0;34m\u001b[0m\u001b[0m\n\u001b[0m",
      "\u001b[0;32m<ipython-input-3-cfa75df014b6>\u001b[0m in \u001b[0;36meval_eval\u001b[0;34m(self, observations)\u001b[0m\n\u001b[1;32m     14\u001b[0m     \u001b[0;32mdef\u001b[0m \u001b[0meval_eval\u001b[0m\u001b[0;34m(\u001b[0m\u001b[0mself\u001b[0m\u001b[0;34m,\u001b[0m\u001b[0mobservations\u001b[0m\u001b[0;34m)\u001b[0m\u001b[0;34m:\u001b[0m   \u001b[0;31m#this one replaces previous eval method, renamed to avoid reserved words.\u001b[0m\u001b[0;34m\u001b[0m\u001b[0m\n\u001b[1;32m     15\u001b[0m         return self.sess.run(self.net.estimator,\n\u001b[0;32m---> 16\u001b[0;31m                   feed_dict={self.net.observations: observations})\n\u001b[0m",
      "\u001b[0;32m~/.local/lib/python3.5/site-packages/tensorflow/python/client/session.py\u001b[0m in \u001b[0;36mrun\u001b[0;34m(self, fetches, feed_dict, options, run_metadata)\u001b[0m\n\u001b[1;32m    927\u001b[0m     \u001b[0;32mtry\u001b[0m\u001b[0;34m:\u001b[0m\u001b[0;34m\u001b[0m\u001b[0m\n\u001b[1;32m    928\u001b[0m       result = self._run(None, fetches, feed_dict, options_ptr,\n\u001b[0;32m--> 929\u001b[0;31m                          run_metadata_ptr)\n\u001b[0m\u001b[1;32m    930\u001b[0m       \u001b[0;32mif\u001b[0m \u001b[0mrun_metadata\u001b[0m\u001b[0;34m:\u001b[0m\u001b[0;34m\u001b[0m\u001b[0m\n\u001b[1;32m    931\u001b[0m         \u001b[0mproto_data\u001b[0m \u001b[0;34m=\u001b[0m \u001b[0mtf_session\u001b[0m\u001b[0;34m.\u001b[0m\u001b[0mTF_GetBuffer\u001b[0m\u001b[0;34m(\u001b[0m\u001b[0mrun_metadata_ptr\u001b[0m\u001b[0;34m)\u001b[0m\u001b[0;34m\u001b[0m\u001b[0m\n",
      "\u001b[0;32m~/.local/lib/python3.5/site-packages/tensorflow/python/client/session.py\u001b[0m in \u001b[0;36m_run\u001b[0;34m(self, handle, fetches, feed_dict, options, run_metadata)\u001b[0m\n\u001b[1;32m   1126\u001b[0m                              \u001b[0;34m'which has shape %r'\u001b[0m \u001b[0;34m%\u001b[0m\u001b[0;34m\u001b[0m\u001b[0m\n\u001b[1;32m   1127\u001b[0m                              (np_val.shape, subfeed_t.name,\n\u001b[0;32m-> 1128\u001b[0;31m                               str(subfeed_t.get_shape())))\n\u001b[0m\u001b[1;32m   1129\u001b[0m           \u001b[0;32mif\u001b[0m \u001b[0;32mnot\u001b[0m \u001b[0mself\u001b[0m\u001b[0;34m.\u001b[0m\u001b[0mgraph\u001b[0m\u001b[0;34m.\u001b[0m\u001b[0mis_feedable\u001b[0m\u001b[0;34m(\u001b[0m\u001b[0msubfeed_t\u001b[0m\u001b[0;34m)\u001b[0m\u001b[0;34m:\u001b[0m\u001b[0;34m\u001b[0m\u001b[0m\n\u001b[1;32m   1130\u001b[0m             \u001b[0;32mraise\u001b[0m \u001b[0mValueError\u001b[0m\u001b[0;34m(\u001b[0m\u001b[0;34m'Tensor %s may not be fed.'\u001b[0m \u001b[0;34m%\u001b[0m \u001b[0msubfeed_t\u001b[0m\u001b[0;34m)\u001b[0m\u001b[0;34m\u001b[0m\u001b[0m\n",
      "\u001b[0;31mValueError\u001b[0m: Cannot feed value of shape (10000, 784) for Tensor 'Placeholder:0', which has shape '(?, 28, 28, 1)'"
     ]
    }
   ],
   "source": [
    "y_hat_test=net.eval_eval(images_test)"
   ]
  },
  {
   "cell_type": "code",
   "execution_count": null,
   "metadata": {},
   "outputs": [],
   "source": [
    "accuracy=np.mean(np.argmax(y_hat_test,axis=1)==labels_test)"
   ]
  },
  {
   "cell_type": "code",
   "execution_count": 13,
   "metadata": {},
   "outputs": [
    {
     "data": {
      "text/plain": [
       "[60000, 784]"
      ]
     },
     "execution_count": 13,
     "metadata": {},
     "output_type": "execute_result"
    }
   ],
   "source": [
    "list(np.shape(images))"
   ]
  },
  {
   "cell_type": "code",
   "execution_count": null,
   "metadata": {},
   "outputs": [],
   "source": [
    "images_2d=np.reshape(images,[-1,28,28])"
   ]
  },
  {
   "cell_type": "code",
   "execution_count": null,
   "metadata": {},
   "outputs": [],
   "source": [
    "import matplotlib.pyplot as plt"
   ]
  },
  {
   "cell_type": "code",
   "execution_count": null,
   "metadata": {},
   "outputs": [],
   "source": [
    "plt.imshow(images_2d[10])"
   ]
  }
 ],
 "metadata": {
  "kernelspec": {
   "display_name": "Python 3",
   "language": "python",
   "name": "python3"
  },
  "language_info": {
   "codemirror_mode": {
    "name": "ipython",
    "version": 3
   },
   "file_extension": ".py",
   "mimetype": "text/x-python",
   "name": "python",
   "nbconvert_exporter": "python",
   "pygments_lexer": "ipython3",
   "version": "3.5.2"
  }
 },
 "nbformat": 4,
 "nbformat_minor": 2
}
