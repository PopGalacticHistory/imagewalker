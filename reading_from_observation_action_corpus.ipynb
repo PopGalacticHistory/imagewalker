{
 "cells": [
  {
   "cell_type": "code",
   "execution_count": 1,
   "metadata": {},
   "outputs": [],
   "source": [
    "import numpy as np\n",
    "import tensorflow as tf\n",
    "import pickle\n",
    "import glob\n",
    "from misc import *"
   ]
  },
  {
   "cell_type": "code",
   "execution_count": 2,
   "metadata": {},
   "outputs": [],
   "source": [
    "subrate = 8"
   ]
  },
  {
   "cell_type": "code",
   "execution_count": 3,
   "metadata": {},
   "outputs": [],
   "source": [
    "def one_hot(a,depth):\n",
    "    o=np.zeros([len(a),depth])\n",
    "    o[list(range(len(a))),a]=1\n",
    "    return o\n",
    "\n",
    "def subsample(data,s):\n",
    "    sub=list(range(0,len(data[0]),s))\n",
    "    return [dd[sub] for dd in data]"
   ]
  },
  {
   "cell_type": "code",
   "execution_count": 4,
   "metadata": {},
   "outputs": [],
   "source": [
    "def read_observation_action_from_path(path = None, filenames = None, max_file=1e7):\n",
    "    if filenames is None:\n",
    "        filenames = sorted(glob.glob(path))\n",
    "    observation_list=[]\n",
    "    a_list=[]\n",
    "    for cnt, this_file in enumerate(filenames):\n",
    "        if cnt<max_file:\n",
    "            with open(this_file,'rb') as f:\n",
    "                observation_list_s, a_list_s = pickle.load(f)\n",
    "                observation_list += observation_list_s\n",
    "                a_list += a_list_s\n",
    "        else:\n",
    "            break\n",
    "    return observation_list,a_list"
   ]
  },
  {
   "cell_type": "code",
   "execution_count": 5,
   "metadata": {},
   "outputs": [],
   "source": [
    "## we will now read all the observation-action pairs from the path"
   ]
  },
  {
   "cell_type": "code",
   "execution_count": 6,
   "metadata": {},
   "outputs": [],
   "source": [
    "observation_list_long,a_list_long = read_observation_action_from_path('offline_learning_data/YYobservation_action_dump_*')"
   ]
  },
  {
   "cell_type": "code",
   "execution_count": 7,
   "metadata": {},
   "outputs": [],
   "source": [
    "## and here we will read a single file only"
   ]
  },
  {
   "cell_type": "code",
   "execution_count": 8,
   "metadata": {},
   "outputs": [],
   "source": [
    "with open('offline_learning_data/YYobservation_action_dump_17.pkl','rb') as f:\n",
    "    observation_list_short, a_list_short = pickle.load(f)"
   ]
  },
  {
   "cell_type": "code",
   "execution_count": 9,
   "metadata": {},
   "outputs": [],
   "source": [
    "## and here we subsample an observation list (the short one)"
   ]
  },
  {
   "cell_type": "code",
   "execution_count": 10,
   "metadata": {},
   "outputs": [],
   "source": [
    "observation_list_short_subsampled = subsample(observation_list_short,subrate)"
   ]
  },
  {
   "cell_type": "code",
   "execution_count": 11,
   "metadata": {},
   "outputs": [],
   "source": [
    "## print shapes of the data:"
   ]
  },
  {
   "cell_type": "code",
   "execution_count": 12,
   "metadata": {},
   "outputs": [
    {
     "name": "stdout",
     "output_type": "stream",
     "text": [
      "shape of all the observations in directory (105000, 1024)\n",
      "shape of all the actions in directory (105000,)\n",
      "shape of all the observations in single file (1000, 1024)\n",
      "shape of all the actions in single file (1000,)\n",
      "shape of all the observations in single file subsampled (1000, 128)\n"
     ]
    }
   ],
   "source": [
    "print('shape of all the observations in directory', np.shape(observation_list_long))\n",
    "print('shape of all the actions in directory', np.shape(a_list_long))\n",
    "print('shape of all the observations in single file', np.shape(observation_list_short))\n",
    "print('shape of all the actions in single file', np.shape(a_list_short))\n",
    "print('shape of all the observations in single file subsampled', np.shape(observation_list_short_subsampled))\n"
   ]
  },
  {
   "cell_type": "code",
   "execution_count": 13,
   "metadata": {},
   "outputs": [],
   "source": [
    "## to subsample a single observation as opposed to list do the following \n",
    "## (this manipulation will not be needed once subsample function is improved to receive single observation)"
   ]
  },
  {
   "cell_type": "code",
   "execution_count": 14,
   "metadata": {},
   "outputs": [
    {
     "name": "stdout",
     "output_type": "stream",
     "text": [
      "single observation shape (1024,)\n",
      "subsampled observation shape (128,)\n"
     ]
    }
   ],
   "source": [
    "ob_1 =  observation_list_short[5]\n",
    "ob_1_subsampled = subsample([ob_1],subrate)[0]\n",
    "print('single observation shape', np.shape(ob_1))\n",
    "print('subsampled observation shape', np.shape(ob_1_subsampled))"
   ]
  },
  {
   "cell_type": "code",
   "execution_count": null,
   "metadata": {},
   "outputs": [],
   "source": [
    "## turning actions into one-hot representation"
   ]
  },
  {
   "cell_type": "code",
   "execution_count": 16,
   "metadata": {},
   "outputs": [
    {
     "name": "stdout",
     "output_type": "stream",
     "text": [
      "original action list shape (1000,)\n",
      "one hot action array shape (1000, 3)\n"
     ]
    }
   ],
   "source": [
    "one_hot_actions = one_hot(a_list_short,3)\n",
    "print('original action list shape',np.shape(a_list_short))\n",
    "print('one hot action array shape',np.shape(one_hot_actions))\n"
   ]
  },
  {
   "cell_type": "code",
   "execution_count": null,
   "metadata": {},
   "outputs": [],
   "source": []
  }
 ],
 "metadata": {
  "kernelspec": {
   "display_name": "Python 3",
   "language": "python",
   "name": "python3"
  },
  "language_info": {
   "codemirror_mode": {
    "name": "ipython",
    "version": 3
   },
   "file_extension": ".py",
   "mimetype": "text/x-python",
   "name": "python",
   "nbconvert_exporter": "python",
   "pygments_lexer": "ipython3",
   "version": "3.5.2"
  }
 },
 "nbformat": 4,
 "nbformat_minor": 2
}
