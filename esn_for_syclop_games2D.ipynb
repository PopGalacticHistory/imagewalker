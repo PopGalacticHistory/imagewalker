{
 "cells": [
  {
   "cell_type": "code",
   "execution_count": 1,
   "metadata": {
    "scrolled": true
   },
   "outputs": [],
   "source": [
    "from __future__ import print_function\n",
    "from misc import *\n",
    "\n"
   ]
  },
  {
   "cell_type": "code",
   "execution_count": 2,
   "metadata": {},
   "outputs": [],
   "source": [
    "\"\"\"DVS128 closed loop oscillator routine by Alexander Rivkind, Eldad Assa, Michael Kreiserman and Ehud Ahissar\n",
    "based on: \n",
    "*DVS example by: Yuhuang Hu (duguyue100@gmail.com)\n",
    "*\"Syclop\" paradigm: Ahissar and Assa 2017\n",
    "\"\"\"\n",
    "from reservoir import ESN\n",
    "import numpy as np\n",
    "import time\n",
    "import SYCLOP_env as syc\n",
    "import matplotlib.pyplot as plt\n",
    "\n",
    "\n",
    "import cv2\n",
    "from misc import *\n",
    "import maestro\n",
    "import teachers\n",
    "from pyaer.dvs128 import DVS128\n",
    "%matplotlib notebook"
   ]
  },
  {
   "cell_type": "code",
   "execution_count": 3,
   "metadata": {},
   "outputs": [],
   "source": [
    "import pickle"
   ]
  },
  {
   "cell_type": "code",
   "execution_count": 4,
   "metadata": {},
   "outputs": [],
   "source": [
    "with open('games_s2.pkl','rb') as f:\n",
    "    esn0 = pickle.load(f)\n",
    "with open('games_s2.pkl','rb') as f:\n",
    "    esn1 = pickle.load(f)"
   ]
  },
  {
   "cell_type": "code",
   "execution_count": 5,
   "metadata": {},
   "outputs": [],
   "source": [
    "A_net_teacher = 5\n",
    "servo = maestro.Controller()"
   ]
  },
  {
   "cell_type": "code",
   "execution_count": 6,
   "metadata": {},
   "outputs": [],
   "source": [
    "def gohome():    \n",
    "    servo.setSpeed(0,0)\n",
    "    servo.setSpeed(1,0)\n",
    "    servo.setTarget(1,7500)     #set speed of servo 1\n",
    "    servo.setTarget(0,5000)  #set servo to move to center position\n",
    "    servo.setSpeed(0,1)\n",
    "    servo.setSpeed(1,1)\n",
    "    time.sleep(1.0)"
   ]
  },
  {
   "cell_type": "code",
   "execution_count": 7,
   "metadata": {},
   "outputs": [
    {
     "name": "stdout",
     "output_type": "stream",
     "text": [
      "1274 / 2892 [[0.14761862]]  [0.68221682]]  1105 [[-0.41550448]]  / 1379 [[-0.0225316]]  1388 [[0.14029662]]  / 1540 [[-0.635681]]  / 1628 [[0.12700206]] [[0.40352604]] [[0.0083024]] \r"
     ]
    }
   ],
   "source": [
    "training = False\n",
    "device = DVS128()\n",
    "\n",
    "\n",
    "device.start_data_stream()\n",
    "# load new config\n",
    "# device.set_bias_from_json(\"./scripts/configs/dvs128_config.json\")\n",
    "# print (device.get_bias())\n",
    "\n",
    "clip_value = 3\n",
    "histrange = [(0, v) for v in (128, 128)]\n",
    "t_prev = time.time()\n",
    "\n",
    "\n",
    "\n",
    "dt_nom = 0.025\n",
    "# dt_list = []\n",
    "cnt = 0\n",
    "empty_cnt = 0\n",
    "\n",
    "gohome()\n",
    "while True:\n",
    "    t_this = time.time()\n",
    "    try:\n",
    "        (pol_events, num_pol_event,\n",
    "         special_events, num_special_event) = \\\n",
    "            device.get_event(\"events_hist\")\n",
    "        if t_this - t_prev > dt_nom:\n",
    "                if num_pol_event != 0:\n",
    "                    img = pol_events[..., 1]-pol_events[..., 0]\n",
    "                    observation0=np.sum(img**2,axis=0)\n",
    "                    observation1=np.sum(img**2,axis=1)\n",
    "                    esn0.step(uin = observation0)\n",
    "                    esn1.step(uin = observation1)\n",
    "\n",
    "                    servo.moveByVelocity(0,(int(np.round(A_net_teacher*esn0.z))))\n",
    "                    servo.moveByVelocity(1,(int(np.round(A_net_teacher*esn1.z))))\n",
    "\n",
    "                    img = np.clip(img, -clip_value, clip_value)\n",
    "                    img = img+clip_value\n",
    "                    print(cnt,'/',empty_cnt,esn1.z,'\\r',end='')\n",
    "                    cv2.imshow(\"image\", img/float(clip_value*2))\n",
    "                    t_prev=t_this\n",
    "                    if cv2.waitKey(1) & 0xFF == ord('q'):\n",
    "                        break\n",
    "                    cnt += 1\n",
    "        else:\n",
    "            empty_cnt += 1\n",
    "\n",
    "    except KeyboardInterrupt:\n",
    "            device.shutdown()\n",
    "            break\n"
   ]
  },
  {
   "cell_type": "code",
   "execution_count": 8,
   "metadata": {},
   "outputs": [],
   "source": [
    "# import pickle"
   ]
  },
  {
   "cell_type": "code",
   "execution_count": 9,
   "metadata": {},
   "outputs": [],
   "source": [
    "# with open('games_u1.pkl','wb') as f:\n",
    "#     pickle.dump(esn,f)"
   ]
  },
  {
   "cell_type": "code",
   "execution_count": 10,
   "metadata": {},
   "outputs": [
    {
     "ename": "NameError",
     "evalue": "name 'esn' is not defined",
     "output_type": "error",
     "traceback": [
      "\u001b[0;31m---------------------------------------------------------------------------\u001b[0m",
      "\u001b[0;31mNameError\u001b[0m                                 Traceback (most recent call last)",
      "\u001b[0;32m<ipython-input-10-bd76c3db0135>\u001b[0m in \u001b[0;36m<module>\u001b[0;34m\u001b[0m\n\u001b[0;32m----> 1\u001b[0;31m \u001b[0mnp\u001b[0m\u001b[0;34m.\u001b[0m\u001b[0msum\u001b[0m\u001b[0;34m(\u001b[0m\u001b[0mesn\u001b[0m\u001b[0;34m.\u001b[0m\u001b[0mwout\u001b[0m\u001b[0;34m*\u001b[0m\u001b[0mesn\u001b[0m\u001b[0;34m.\u001b[0m\u001b[0mwfb\u001b[0m\u001b[0;34m)\u001b[0m\u001b[0;34m\u001b[0m\u001b[0m\n\u001b[0m",
      "\u001b[0;31mNameError\u001b[0m: name 'esn' is not defined"
     ]
    }
   ],
   "source": [
    "np.sum(esn.wout*esn.wfb)"
   ]
  },
  {
   "cell_type": "code",
   "execution_count": null,
   "metadata": {},
   "outputs": [],
   "source": [
    "np.max(np.imag(np.linalg.eig(esn.W)[0]))"
   ]
  },
  {
   "cell_type": "code",
   "execution_count": null,
   "metadata": {},
   "outputs": [],
   "source": [
    "np.flip([1,2,3,4,5])"
   ]
  },
  {
   "cell_type": "code",
   "execution_count": null,
   "metadata": {},
   "outputs": [],
   "source": [
    "esn1.z"
   ]
  },
  {
   "cell_type": "code",
   "execution_count": null,
   "metadata": {},
   "outputs": [],
   "source": []
  }
 ],
 "metadata": {
  "kernelspec": {
   "display_name": "Python 3",
   "language": "python",
   "name": "python3"
  },
  "language_info": {
   "codemirror_mode": {
    "name": "ipython",
    "version": 3
   },
   "file_extension": ".py",
   "mimetype": "text/x-python",
   "name": "python",
   "nbconvert_exporter": "python",
   "pygments_lexer": "ipython3",
   "version": "3.5.2"
  }
 },
 "nbformat": 4,
 "nbformat_minor": 2
}
